{
 "cells": [
  {
   "cell_type": "markdown",
   "metadata": {},
   "source": [
    "# In this notebook we get the data from goodreads API that contains informations about books in the shelf of a given user \n",
    ">**The libiraries we used:**\n",
    "  - **1-requests**\n",
    "  - **2-BeautifulSoup**\n",
    "  - **3-lxml**\n",
    "  - **4-pandas**\n",
    "  - **5-numpy**"
   ]
  },
  {
   "cell_type": "code",
   "execution_count": 1,
   "metadata": {},
   "outputs": [],
   "source": [
    "import requests #to get the data from the APi"
   ]
  },
  {
   "cell_type": "code",
   "execution_count": 2,
   "metadata": {},
   "outputs": [],
   "source": [
    "from bs4 import BeautifulSoup   #to make a better visualizing of the html code"
   ]
  },
  {
   "cell_type": "code",
   "execution_count": 3,
   "metadata": {},
   "outputs": [],
   "source": [
    "from lxml import html     #to help search by path in the html code\n",
    "import time               #to make a delay in the API requests"
   ]
  },
  {
   "cell_type": "markdown",
   "metadata": {},
   "source": [
    "### The function idd make the requests given the user id "
   ]
  },
  {
   "cell_type": "code",
   "execution_count": 4,
   "metadata": {},
   "outputs": [],
   "source": [
    "def idd(idd):\n",
    "    response=requests.get('https://www.goodreads.com/review/list?v=2&key=7q5vfUcnZX5crOGIHmQew&id='+idd)\n",
    "    responsesoup=BeautifulSoup(response.content,'html.parser')\n",
    "    return response"
   ]
  },
  {
   "cell_type": "markdown",
   "metadata": {},
   "source": [
    "### Here we make the requests using users id from 11930000 to 11931970\n",
    "**We made different ranges and store the data in different CSVs**"
   ]
  },
  {
   "cell_type": "code",
   "execution_count": 5,
   "metadata": {},
   "outputs": [],
   "source": [
    "lst=[]\n",
    "for i in range(11930000,11931970):\n",
    "    books=idd(str(i))\n",
    "    lst.append(books)\n",
    "    time.sleep(1)"
   ]
  },
  {
   "cell_type": "markdown",
   "metadata": {},
   "source": [
    "### Then we pick the good responses that we got from the requests"
   ]
  },
  {
   "cell_type": "code",
   "execution_count": 6,
   "metadata": {},
   "outputs": [],
   "source": [
    "good_responses=[]\n",
    "for i in lst:\n",
    "    if str(i) == '<Response [200]>':\n",
    "        good_responses.append(i)"
   ]
  },
  {
   "cell_type": "markdown",
   "metadata": {},
   "source": [
    "### The function bs44 make two things:\n",
    "**1- It makes the responses turn into a good-parsing html code**\n",
    "\n",
    "**2- Then we get the body of the html code for each response (user) and store the body in a list**"
   ]
  },
  {
   "cell_type": "code",
   "execution_count": 7,
   "metadata": {},
   "outputs": [],
   "source": [
    "def bs44(good_responses):\n",
    "    lst=[]\n",
    "    for i in good_responses:\n",
    "        responsesoup=BeautifulSoup(i.content,'html.parser')\n",
    "        html=list(responsesoup.children)[2]\n",
    "        body=list(html.children)[3]\n",
    "        books=list(body.children)\n",
    "        lst.append(books)\n",
    "    return lst"
   ]
  },
  {
   "cell_type": "code",
   "execution_count": 8,
   "metadata": {},
   "outputs": [],
   "source": [
    "lst_users=bs44(good_responses)"
   ]
  },
  {
   "cell_type": "markdown",
   "metadata": {},
   "source": [
    "### The function output has two parameters :\n",
    ">  \n",
    "   - **1-  lst_users : The books information for a specific user**\n",
    "   - **2-  path : The path that you want to get information from in the html code**"
   ]
  },
  {
   "cell_type": "code",
   "execution_count": 9,
   "metadata": {},
   "outputs": [],
   "source": [
    "def output(lst_users,path):\n",
    "    i=1\n",
    "    lst=[]\n",
    "    while(i<len(lst_users)):\n",
    "        path  = path\n",
    "        byte_string = str(lst_users[i])\n",
    "\n",
    "        # get filtered source code \n",
    "        source_code = html.fromstring(byte_string) \n",
    "\n",
    "        # jump to preferred html element \n",
    "        tree = source_code.xpath(path) \n",
    "        lst.append(tree[0].text_content())\n",
    "\n",
    "        i+=2\n",
    "    \n",
    "    return lst"
   ]
  },
  {
   "cell_type": "code",
   "execution_count": 10,
   "metadata": {},
   "outputs": [],
   "source": [
    "import pandas as pd  \n",
    "import numpy as np  "
   ]
  },
  {
   "cell_type": "markdown",
   "metadata": {},
   "source": [
    "### The (all_ ) list contains the 3 most important information that we want [book id, book title, user rating] for the first user "
   ]
  },
  {
   "cell_type": "code",
   "execution_count": 11,
   "metadata": {},
   "outputs": [],
   "source": [
    "all_=[output(lst_users[0],'//id[@type =\"integer\"]'),output(lst_users[0],'//title'),output(lst_users[0],'//rating')]"
   ]
  },
  {
   "cell_type": "markdown",
   "metadata": {},
   "source": [
    "### Then we make a data frame using informaton of the first user"
   ]
  },
  {
   "cell_type": "code",
   "execution_count": 12,
   "metadata": {},
   "outputs": [],
   "source": [
    "df=pd.DataFrame(np.array(all_[0]).reshape(-1,1),columns=['id'])\n",
    "df['title']=all_[1]\n",
    "df['rating']=all_[2]\n",
    "df['user']=0"
   ]
  },
  {
   "cell_type": "markdown",
   "metadata": {},
   "source": [
    "### The function user updates the data frame for each user"
   ]
  },
  {
   "cell_type": "code",
   "execution_count": 13,
   "metadata": {},
   "outputs": [],
   "source": [
    "def user(i,df):\n",
    "    lst=[output(lst_users[i],'//id[@type =\"integer\"]'),output(lst_users[i],'//title'),output(lst_users[i],'//rating')]\n",
    "    df0=pd.DataFrame(np.array(lst[0]).reshape(-1,1),columns=['id'])\n",
    "    df0['title']=lst[1]\n",
    "    df0['rating']=lst[2]\n",
    "    df0['user']=i\n",
    "    df=pd.concat([df,df0])\n",
    "    return df"
   ]
  },
  {
   "cell_type": "markdown",
   "metadata": {},
   "source": [
    "### Here we update the data frame by the informations of all users we have "
   ]
  },
  {
   "cell_type": "code",
   "execution_count": 14,
   "metadata": {},
   "outputs": [],
   "source": [
    "for i in range(1,len(lst_users)):\n",
    "    df=user(i,df)"
   ]
  },
  {
   "cell_type": "markdown",
   "metadata": {},
   "source": [
    "### Then we save the data "
   ]
  },
  {
   "cell_type": "code",
   "execution_count": 18,
   "metadata": {},
   "outputs": [],
   "source": [
    "df.to_csv('Books1.csv',index=False)"
   ]
  },
  {
   "cell_type": "markdown",
   "metadata": {},
   "source": [
    "### And that how it looks like "
   ]
  },
  {
   "cell_type": "code",
   "execution_count": 435,
   "metadata": {
    "scrolled": true
   },
   "outputs": [
    {
     "data": {
      "text/html": [
       "<div>\n",
       "<style scoped>\n",
       "    .dataframe tbody tr th:only-of-type {\n",
       "        vertical-align: middle;\n",
       "    }\n",
       "\n",
       "    .dataframe tbody tr th {\n",
       "        vertical-align: top;\n",
       "    }\n",
       "\n",
       "    .dataframe thead th {\n",
       "        text-align: right;\n",
       "    }\n",
       "</style>\n",
       "<table border=\"1\" class=\"dataframe\">\n",
       "  <thead>\n",
       "    <tr style=\"text-align: right;\">\n",
       "      <th></th>\n",
       "      <th>id</th>\n",
       "      <th>title</th>\n",
       "      <th>rating</th>\n",
       "      <th>user</th>\n",
       "    </tr>\n",
       "  </thead>\n",
       "  <tbody>\n",
       "    <tr>\n",
       "      <td>0</td>\n",
       "      <td>29056083</td>\n",
       "      <td>Harry Potter and the Cursed Child: Parts One a...</td>\n",
       "      <td>0</td>\n",
       "      <td>0</td>\n",
       "    </tr>\n",
       "    <tr>\n",
       "      <td>1</td>\n",
       "      <td>11125</td>\n",
       "      <td>Digital Fortress</td>\n",
       "      <td>4</td>\n",
       "      <td>0</td>\n",
       "    </tr>\n",
       "    <tr>\n",
       "      <td>2</td>\n",
       "      <td>976</td>\n",
       "      <td>Deception Point</td>\n",
       "      <td>4</td>\n",
       "      <td>0</td>\n",
       "    </tr>\n",
       "    <tr>\n",
       "      <td>3</td>\n",
       "      <td>6411961</td>\n",
       "      <td>The Lost Symbol (Robert Langdon, #3)</td>\n",
       "      <td>4</td>\n",
       "      <td>0</td>\n",
       "    </tr>\n",
       "    <tr>\n",
       "      <td>4</td>\n",
       "      <td>968</td>\n",
       "      <td>The Da Vinci Code (Robert Langdon, #2)</td>\n",
       "      <td>4</td>\n",
       "      <td>0</td>\n",
       "    </tr>\n",
       "  </tbody>\n",
       "</table>\n",
       "</div>"
      ],
      "text/plain": [
       "         id                                              title rating  user\n",
       "0  29056083  Harry Potter and the Cursed Child: Parts One a...      0     0\n",
       "1     11125                                   Digital Fortress      4     0\n",
       "2       976                                    Deception Point      4     0\n",
       "3   6411961               The Lost Symbol (Robert Langdon, #3)      4     0\n",
       "4       968             The Da Vinci Code (Robert Langdon, #2)      4     0"
      ]
     },
     "execution_count": 435,
     "metadata": {},
     "output_type": "execute_result"
    }
   ],
   "source": [
    "df.head()"
   ]
  }
 ],
 "metadata": {
  "kernelspec": {
   "display_name": "Python 3",
   "language": "python",
   "name": "python3"
  },
  "language_info": {
   "codemirror_mode": {
    "name": "ipython",
    "version": 3
   },
   "file_extension": ".py",
   "mimetype": "text/x-python",
   "name": "python",
   "nbconvert_exporter": "python",
   "pygments_lexer": "ipython3",
   "version": "3.7.4"
  }
 },
 "nbformat": 4,
 "nbformat_minor": 2
}
